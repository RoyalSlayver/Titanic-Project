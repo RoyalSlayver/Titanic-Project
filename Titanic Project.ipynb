{
 "cells": [
  {
   "cell_type": "markdown",
   "metadata": {},
   "source": [
    "# Titanic Project\n",
    "\n",
    "Este projeto foi realizado por **Ivan Garcia Guimarães**."
   ]
  },
  {
   "cell_type": "markdown",
   "metadata": {},
   "source": [
    "## Introdução"
   ]
  },
  {
   "cell_type": "markdown",
   "metadata": {},
   "source": [
    "O famoso RMS Titanic foi um navio operado pela White Star Line e construído pelos estaleiros da Harland and Wolff em Belfast. Sua construção começou em março de 1909 e ele foi lançado ao mar em maio de 1911. O Titanic foi pensado para ser o navio mais luxuoso e mais seguro já construido até então, considerado \"inafundável\" por muitos na época.\n",
    "\n",
    "A embarcação partiu de inaugural de Southampton para Nova Iorque, no caminho passando em Cherbourg-Octeville na França e por Queenstown na Irlanda. Ele colidiu com um iceberg às 23h40min do dia 14 de abril e afundou na madrugada do dia seguinte com 3327 pessoas a bordo entre passageiros e tripulação. Seu acidente levou a mudanças nas leis internacionais de navegação que permanecem em vigor mais de um século depois."
   ]
  },
  {
   "cell_type": "markdown",
   "metadata": {},
   "source": [
    "## Dados ultilizados"
   ]
  },
  {
   "cell_type": "markdown",
   "metadata": {},
   "source": [
    "Aqui realizarei algumas análises sobre os dados encontrados [neste site](https://www.kaggle.com/c/titanic/data). Fazendo assim, algumas perguntas relacionadas ao acidente onde irei desenvolver ao longo do projeto. Vale resaltar que nestes dados há somente um a parcela dos passageiros na qual embarcaram no Titanic."
   ]
  },
  {
   "cell_type": "markdown",
   "metadata": {},
   "source": [
    "## Perguntas"
   ]
  },
  {
   "cell_type": "markdown",
   "metadata": {},
   "source": [
    "As perguntas propostas por min para serem respondidas foram:\n",
    "<ol>\n",
    "    <li>A classe do passageiro influenciou na taxa de sobrevivencia?</li>\n",
    "    <li>Qual sexo teve a maior taxa de sobrevivência?</li>\n",
    "    <li>Qual faixa etária teve maior taxa de sobrevivência mais?</li>\n",
    "    <li>Pessoas viajando com familiares tiveram um índice de sobrevivencia maior?</li>\n",
    "    <li>Quais motivos foram decisivos no momento do naufrágio para a sobrevivencia?</li>\n",
    "</ol>    "
   ]
  },
  {
   "cell_type": "code",
   "execution_count": 1,
   "metadata": {},
   "outputs": [],
   "source": [
    "#Importando bibliotecas\n",
    "import pandas as pd\n",
    "import numpy as np\n",
    "import matplotlib.pyplot as plt\n",
    "% matplotlib inline\n",
    "from matplotlib.gridspec import GridSpec\n",
    "import matplotlib as mpl"
   ]
  },
  {
   "cell_type": "code",
   "execution_count": 2,
   "metadata": {},
   "outputs": [],
   "source": [
    "#Lendo arquivo\n",
    "t_data = pd.read_csv('titanic-data-6.csv')"
   ]
  },
  {
   "cell_type": "code",
   "execution_count": 3,
   "metadata": {},
   "outputs": [
    {
     "data": {
      "text/html": [
       "<div>\n",
       "<style scoped>\n",
       "    .dataframe tbody tr th:only-of-type {\n",
       "        vertical-align: middle;\n",
       "    }\n",
       "\n",
       "    .dataframe tbody tr th {\n",
       "        vertical-align: top;\n",
       "    }\n",
       "\n",
       "    .dataframe thead th {\n",
       "        text-align: right;\n",
       "    }\n",
       "</style>\n",
       "<table border=\"1\" class=\"dataframe\">\n",
       "  <thead>\n",
       "    <tr style=\"text-align: right;\">\n",
       "      <th></th>\n",
       "      <th>PassengerId</th>\n",
       "      <th>Survived</th>\n",
       "      <th>Pclass</th>\n",
       "      <th>Name</th>\n",
       "      <th>Sex</th>\n",
       "      <th>Age</th>\n",
       "      <th>SibSp</th>\n",
       "      <th>Parch</th>\n",
       "      <th>Ticket</th>\n",
       "      <th>Fare</th>\n",
       "      <th>Cabin</th>\n",
       "      <th>Embarked</th>\n",
       "    </tr>\n",
       "  </thead>\n",
       "  <tbody>\n",
       "    <tr>\n",
       "      <th>0</th>\n",
       "      <td>1</td>\n",
       "      <td>0</td>\n",
       "      <td>3</td>\n",
       "      <td>Braund, Mr. Owen Harris</td>\n",
       "      <td>male</td>\n",
       "      <td>22.0</td>\n",
       "      <td>1</td>\n",
       "      <td>0</td>\n",
       "      <td>A/5 21171</td>\n",
       "      <td>7.2500</td>\n",
       "      <td>NaN</td>\n",
       "      <td>S</td>\n",
       "    </tr>\n",
       "    <tr>\n",
       "      <th>1</th>\n",
       "      <td>2</td>\n",
       "      <td>1</td>\n",
       "      <td>1</td>\n",
       "      <td>Cumings, Mrs. John Bradley (Florence Briggs Th...</td>\n",
       "      <td>female</td>\n",
       "      <td>38.0</td>\n",
       "      <td>1</td>\n",
       "      <td>0</td>\n",
       "      <td>PC 17599</td>\n",
       "      <td>71.2833</td>\n",
       "      <td>C85</td>\n",
       "      <td>C</td>\n",
       "    </tr>\n",
       "    <tr>\n",
       "      <th>2</th>\n",
       "      <td>3</td>\n",
       "      <td>1</td>\n",
       "      <td>3</td>\n",
       "      <td>Heikkinen, Miss. Laina</td>\n",
       "      <td>female</td>\n",
       "      <td>26.0</td>\n",
       "      <td>0</td>\n",
       "      <td>0</td>\n",
       "      <td>STON/O2. 3101282</td>\n",
       "      <td>7.9250</td>\n",
       "      <td>NaN</td>\n",
       "      <td>S</td>\n",
       "    </tr>\n",
       "    <tr>\n",
       "      <th>3</th>\n",
       "      <td>4</td>\n",
       "      <td>1</td>\n",
       "      <td>1</td>\n",
       "      <td>Futrelle, Mrs. Jacques Heath (Lily May Peel)</td>\n",
       "      <td>female</td>\n",
       "      <td>35.0</td>\n",
       "      <td>1</td>\n",
       "      <td>0</td>\n",
       "      <td>113803</td>\n",
       "      <td>53.1000</td>\n",
       "      <td>C123</td>\n",
       "      <td>S</td>\n",
       "    </tr>\n",
       "    <tr>\n",
       "      <th>4</th>\n",
       "      <td>5</td>\n",
       "      <td>0</td>\n",
       "      <td>3</td>\n",
       "      <td>Allen, Mr. William Henry</td>\n",
       "      <td>male</td>\n",
       "      <td>35.0</td>\n",
       "      <td>0</td>\n",
       "      <td>0</td>\n",
       "      <td>373450</td>\n",
       "      <td>8.0500</td>\n",
       "      <td>NaN</td>\n",
       "      <td>S</td>\n",
       "    </tr>\n",
       "  </tbody>\n",
       "</table>\n",
       "</div>"
      ],
      "text/plain": [
       "   PassengerId  Survived  Pclass  \\\n",
       "0            1         0       3   \n",
       "1            2         1       1   \n",
       "2            3         1       3   \n",
       "3            4         1       1   \n",
       "4            5         0       3   \n",
       "\n",
       "                                                Name     Sex   Age  SibSp  \\\n",
       "0                            Braund, Mr. Owen Harris    male  22.0      1   \n",
       "1  Cumings, Mrs. John Bradley (Florence Briggs Th...  female  38.0      1   \n",
       "2                             Heikkinen, Miss. Laina  female  26.0      0   \n",
       "3       Futrelle, Mrs. Jacques Heath (Lily May Peel)  female  35.0      1   \n",
       "4                           Allen, Mr. William Henry    male  35.0      0   \n",
       "\n",
       "   Parch            Ticket     Fare Cabin Embarked  \n",
       "0      0         A/5 21171   7.2500   NaN        S  \n",
       "1      0          PC 17599  71.2833   C85        C  \n",
       "2      0  STON/O2. 3101282   7.9250   NaN        S  \n",
       "3      0            113803  53.1000  C123        S  \n",
       "4      0            373450   8.0500   NaN        S  "
      ]
     },
     "execution_count": 3,
     "metadata": {},
     "output_type": "execute_result"
    }
   ],
   "source": [
    "#Exibindo as informações do dataframe\n",
    "t_data.head()"
   ]
  },
  {
   "cell_type": "markdown",
   "metadata": {},
   "source": [
    "## Preparando os Dados"
   ]
  },
  {
   "cell_type": "markdown",
   "metadata": {},
   "source": [
    "Observamos que há informações em nosso dataset onde não há necessidade para nós, por tanto, irei limpar ou melhor eliminar estas informações extras através do processo de eliminação de colunas. Pois, elas podem nos causar confusão na hora de analisarmos e diminui o uso de memória."
   ]
  },
  {
   "cell_type": "code",
   "execution_count": 4,
   "metadata": {},
   "outputs": [
    {
     "name": "stdout",
     "output_type": "stream",
     "text": [
      "<class 'pandas.core.frame.DataFrame'>\n",
      "RangeIndex: 891 entries, 0 to 890\n",
      "Data columns (total 6 columns):\n",
      "Survived    891 non-null int64\n",
      "Pclass      891 non-null int64\n",
      "Sex         891 non-null object\n",
      "Age         714 non-null float64\n",
      "SibSp       891 non-null int64\n",
      "Parch       891 non-null int64\n",
      "dtypes: float64(1), int64(4), object(1)\n",
      "memory usage: 41.8+ KB\n"
     ]
    }
   ],
   "source": [
    "#Removendo colunas que não serão utilizadas\n",
    "t_data.drop(['PassengerId','Name','Ticket','Fare','Cabin','Embarked'],axis=1, inplace = True)\n",
    "t_data.info()"
   ]
  },
  {
   "cell_type": "markdown",
   "metadata": {},
   "source": [
    "Agora que eliminamos as colunas desnecessárias em nosso dataset, vamos modificar o nome das colunas para poder ter uma maior facilidade de entendimento e adequar ao nosso projeto."
   ]
  },
  {
   "cell_type": "code",
   "execution_count": 5,
   "metadata": {},
   "outputs": [
    {
     "name": "stdout",
     "output_type": "stream",
     "text": [
      "<class 'pandas.core.frame.DataFrame'>\n",
      "RangeIndex: 891 entries, 0 to 890\n",
      "Data columns (total 6 columns):\n",
      "Vivo         891 non-null int64\n",
      "Classe       891 non-null int64\n",
      "Sexo         891 non-null object\n",
      "Idade        714 non-null float64\n",
      "Parente_1    891 non-null int64\n",
      "Parente_2    891 non-null int64\n",
      "dtypes: float64(1), int64(4), object(1)\n",
      "memory usage: 41.8+ KB\n"
     ]
    }
   ],
   "source": [
    "#Alterando os nomes das colunas\n",
    "t_data.columns = ['Vivo','Classe','Sexo','Idade','Parente_1','Parente_2']\n",
    "t_data.info()"
   ]
  },
  {
   "cell_type": "markdown",
   "metadata": {},
   "source": [
    "Dataset constando apenas as colunas necessárias e devidamente identificadas, mas podemos observar que há valores faltantes em _'Idade'_, então vamos completa-las com valores médios entre as idades."
   ]
  },
  {
   "cell_type": "code",
   "execution_count": 6,
   "metadata": {},
   "outputs": [],
   "source": [
    "#Completando valores faltantes\n",
    "mean = t_data['Idade'].mean()\n",
    "t_data['Idade'].fillna(mean, inplace=True)"
   ]
  },
  {
   "cell_type": "code",
   "execution_count": 7,
   "metadata": {},
   "outputs": [
    {
     "name": "stdout",
     "output_type": "stream",
     "text": [
      "<class 'pandas.core.frame.DataFrame'>\n",
      "RangeIndex: 891 entries, 0 to 890\n",
      "Data columns (total 6 columns):\n",
      "Vivo         891 non-null int64\n",
      "Classe       891 non-null int64\n",
      "Sexo         891 non-null object\n",
      "Idade        891 non-null float64\n",
      "Parente_1    891 non-null int64\n",
      "Parente_2    891 non-null int64\n",
      "dtypes: float64(1), int64(4), object(1)\n",
      "memory usage: 41.8+ KB\n"
     ]
    }
   ],
   "source": [
    "#Verificando alteração\n",
    "t_data.info()"
   ]
  },
  {
   "cell_type": "markdown",
   "metadata": {},
   "source": [
    "Perfeito, não há mais nenhum valor faltando. Então agora vamos verificar como estão as informações dentro da nossa tabela."
   ]
  },
  {
   "cell_type": "code",
   "execution_count": 8,
   "metadata": {},
   "outputs": [
    {
     "data": {
      "text/html": [
       "<div>\n",
       "<style scoped>\n",
       "    .dataframe tbody tr th:only-of-type {\n",
       "        vertical-align: middle;\n",
       "    }\n",
       "\n",
       "    .dataframe tbody tr th {\n",
       "        vertical-align: top;\n",
       "    }\n",
       "\n",
       "    .dataframe thead th {\n",
       "        text-align: right;\n",
       "    }\n",
       "</style>\n",
       "<table border=\"1\" class=\"dataframe\">\n",
       "  <thead>\n",
       "    <tr style=\"text-align: right;\">\n",
       "      <th></th>\n",
       "      <th>Vivo</th>\n",
       "      <th>Classe</th>\n",
       "      <th>Sexo</th>\n",
       "      <th>Idade</th>\n",
       "      <th>Parente_1</th>\n",
       "      <th>Parente_2</th>\n",
       "    </tr>\n",
       "  </thead>\n",
       "  <tbody>\n",
       "    <tr>\n",
       "      <th>0</th>\n",
       "      <td>0</td>\n",
       "      <td>3</td>\n",
       "      <td>male</td>\n",
       "      <td>22.0</td>\n",
       "      <td>1</td>\n",
       "      <td>0</td>\n",
       "    </tr>\n",
       "    <tr>\n",
       "      <th>1</th>\n",
       "      <td>1</td>\n",
       "      <td>1</td>\n",
       "      <td>female</td>\n",
       "      <td>38.0</td>\n",
       "      <td>1</td>\n",
       "      <td>0</td>\n",
       "    </tr>\n",
       "    <tr>\n",
       "      <th>2</th>\n",
       "      <td>1</td>\n",
       "      <td>3</td>\n",
       "      <td>female</td>\n",
       "      <td>26.0</td>\n",
       "      <td>0</td>\n",
       "      <td>0</td>\n",
       "    </tr>\n",
       "    <tr>\n",
       "      <th>3</th>\n",
       "      <td>1</td>\n",
       "      <td>1</td>\n",
       "      <td>female</td>\n",
       "      <td>35.0</td>\n",
       "      <td>1</td>\n",
       "      <td>0</td>\n",
       "    </tr>\n",
       "    <tr>\n",
       "      <th>4</th>\n",
       "      <td>0</td>\n",
       "      <td>3</td>\n",
       "      <td>male</td>\n",
       "      <td>35.0</td>\n",
       "      <td>0</td>\n",
       "      <td>0</td>\n",
       "    </tr>\n",
       "  </tbody>\n",
       "</table>\n",
       "</div>"
      ],
      "text/plain": [
       "   Vivo  Classe    Sexo  Idade  Parente_1  Parente_2\n",
       "0     0       3    male   22.0          1          0\n",
       "1     1       1  female   38.0          1          0\n",
       "2     1       3  female   26.0          0          0\n",
       "3     1       1  female   35.0          1          0\n",
       "4     0       3    male   35.0          0          0"
      ]
     },
     "execution_count": 8,
     "metadata": {},
     "output_type": "execute_result"
    }
   ],
   "source": [
    "#Observando tabela\n",
    "t_data.head()"
   ]
  },
  {
   "cell_type": "markdown",
   "metadata": {},
   "source": [
    "Observando a tabela podemos ver que a coluna _'Vivo'_ e _'Sexo'_ podem ser modificadas para maior clareza de visualização e também o valor da idade está em float pois há _'.0'_ após o número inteiro. Então vamos modificar-los."
   ]
  },
  {
   "cell_type": "code",
   "execution_count": 9,
   "metadata": {},
   "outputs": [],
   "source": [
    "#Alterando nomeclaturas e modificando a Idade de 'Float' para 'int'\n",
    "t_data['Vivo'] = t_data['Vivo'].replace([0,1],['Nao','Sim'])\n",
    "t_data['Sexo'] = t_data['Sexo'].replace(['male','female'],['Homem','Mulher'])\n",
    "t_data['Idade'] = pd.to_numeric(t_data.Idade, errors='coerce').fillna(0).astype(np.int64, inplace=True)"
   ]
  },
  {
   "cell_type": "code",
   "execution_count": 10,
   "metadata": {},
   "outputs": [
    {
     "data": {
      "text/html": [
       "<div>\n",
       "<style scoped>\n",
       "    .dataframe tbody tr th:only-of-type {\n",
       "        vertical-align: middle;\n",
       "    }\n",
       "\n",
       "    .dataframe tbody tr th {\n",
       "        vertical-align: top;\n",
       "    }\n",
       "\n",
       "    .dataframe thead th {\n",
       "        text-align: right;\n",
       "    }\n",
       "</style>\n",
       "<table border=\"1\" class=\"dataframe\">\n",
       "  <thead>\n",
       "    <tr style=\"text-align: right;\">\n",
       "      <th></th>\n",
       "      <th>Vivo</th>\n",
       "      <th>Classe</th>\n",
       "      <th>Sexo</th>\n",
       "      <th>Idade</th>\n",
       "      <th>Parente_1</th>\n",
       "      <th>Parente_2</th>\n",
       "    </tr>\n",
       "  </thead>\n",
       "  <tbody>\n",
       "    <tr>\n",
       "      <th>0</th>\n",
       "      <td>Nao</td>\n",
       "      <td>3</td>\n",
       "      <td>Homem</td>\n",
       "      <td>22</td>\n",
       "      <td>1</td>\n",
       "      <td>0</td>\n",
       "    </tr>\n",
       "    <tr>\n",
       "      <th>1</th>\n",
       "      <td>Sim</td>\n",
       "      <td>1</td>\n",
       "      <td>Mulher</td>\n",
       "      <td>38</td>\n",
       "      <td>1</td>\n",
       "      <td>0</td>\n",
       "    </tr>\n",
       "    <tr>\n",
       "      <th>2</th>\n",
       "      <td>Sim</td>\n",
       "      <td>3</td>\n",
       "      <td>Mulher</td>\n",
       "      <td>26</td>\n",
       "      <td>0</td>\n",
       "      <td>0</td>\n",
       "    </tr>\n",
       "    <tr>\n",
       "      <th>3</th>\n",
       "      <td>Sim</td>\n",
       "      <td>1</td>\n",
       "      <td>Mulher</td>\n",
       "      <td>35</td>\n",
       "      <td>1</td>\n",
       "      <td>0</td>\n",
       "    </tr>\n",
       "    <tr>\n",
       "      <th>4</th>\n",
       "      <td>Nao</td>\n",
       "      <td>3</td>\n",
       "      <td>Homem</td>\n",
       "      <td>35</td>\n",
       "      <td>0</td>\n",
       "      <td>0</td>\n",
       "    </tr>\n",
       "  </tbody>\n",
       "</table>\n",
       "</div>"
      ],
      "text/plain": [
       "  Vivo  Classe    Sexo  Idade  Parente_1  Parente_2\n",
       "0  Nao       3   Homem     22          1          0\n",
       "1  Sim       1  Mulher     38          1          0\n",
       "2  Sim       3  Mulher     26          0          0\n",
       "3  Sim       1  Mulher     35          1          0\n",
       "4  Nao       3   Homem     35          0          0"
      ]
     },
     "execution_count": 10,
     "metadata": {},
     "output_type": "execute_result"
    }
   ],
   "source": [
    "#Verificando modificação\n",
    "t_data.head()"
   ]
  },
  {
   "cell_type": "markdown",
   "metadata": {},
   "source": [
    "## Dicionário de Dados"
   ]
  },
  {
   "cell_type": "markdown",
   "metadata": {},
   "source": [
    "Aqui listarei uma breve explicação de cada item em nosso dataset para um maior entendimento. Segue abaixo:\n",
    "\n",
    "</b>\n",
    "<li>**Vivo:** Informa se o passageiro sobreviveu ou não ao naufrágio;</li>\n",
    "<li>**Classe:** Informa a respeito da classe do ticket de embarque: 1 = 1°Classe, 2 = 2°Classe, 3 = 3°Classe;</li>\n",
    "<li>**Sexo:** Informa o gênero do passageiro;</li>\n",
    "<li>**Idade:** Informa a idade do passageiro;</li>\n",
    "<li>**Parente_1:** Informa o tipo de relação familiar: Irmãos e Conjunges;</li>\n",
    "<li>**Parente_2:** Informa o tipo de relação familiar: Pais e Filhos;</li>"
   ]
  },
  {
   "cell_type": "markdown",
   "metadata": {},
   "source": [
    "## Visualização de Dados"
   ]
  },
  {
   "cell_type": "markdown",
   "metadata": {},
   "source": [
    "Agora que nosso dataset está com todas as informações tratadas e claras para se trabalhar vamos iniciar as nossas análises."
   ]
  },
  {
   "cell_type": "markdown",
   "metadata": {},
   "source": [
    "### A classe do passageiro influenciou na taxa de sobrevivencia?"
   ]
  },
  {
   "cell_type": "markdown",
   "metadata": {},
   "source": [
    "Como queremos descubrir qual classe teve uma maior taxa de sobrevivência, se teve alguma com uma variação significativa, então vamos separar-las entre: 1º classe, 2º classe e 3º classe."
   ]
  },
  {
   "cell_type": "code",
   "execution_count": 11,
   "metadata": {
    "scrolled": true
   },
   "outputs": [],
   "source": [
    "#Observando a taxa de sobrevivência da 1º classe\n",
    "vivo_1 = t_data.query('Classe == 1')\n",
    "class_1 = vivo_1.groupby(['Vivo','Classe']).size()"
   ]
  },
  {
   "cell_type": "code",
   "execution_count": 12,
   "metadata": {},
   "outputs": [],
   "source": [
    "#Observando a taxa de sobrevivência da 2º classe\n",
    "vivo_2 = t_data.query('Classe == 2')\n",
    "class_2 = vivo_2.groupby(['Vivo','Classe']).size()"
   ]
  },
  {
   "cell_type": "code",
   "execution_count": 13,
   "metadata": {},
   "outputs": [],
   "source": [
    "#Observando a taxa de sobrevivência da 3°\n",
    "vivo_3 = t_data.query('Classe == 3')\n",
    "class_3 = vivo_3.groupby(['Vivo','Classe']).size()"
   ]
  },
  {
   "cell_type": "markdown",
   "metadata": {},
   "source": [
    "Pronto, agora que descobrimos os valores vamos plotar os três gráficos em uma única imagem para uma maior facilidade na visualização e assim descobrirmos qual foram as diferencias entre elas. Lembre-se, estou procurando saber a taxa de sobrevivência então vamos ignorar os valores quantitativos. Pois, as três classes têm valores diferentes de passageiros, por tanto, iria causar um erro na hora de interpretar este dado."
   ]
  },
  {
   "cell_type": "code",
   "execution_count": 14,
   "metadata": {},
   "outputs": [
    {
     "data": {
      "image/png": "[encoded data removed]",
      "text/plain": [
       "<matplotlib.figure.Figure at 0x1f1f70b6630>"
      ]
     },
     "metadata": {},
     "output_type": "display_data"
    }
   ],
   "source": [
    "#Criando títulos\n",
    "labels = 'Naufragou', 'Sobreviveu'\n",
    "\n",
    "#Criando Grid\n",
    "the_grid = GridSpec(1, 3)\n",
    "\n",
    "#Pie chart 1\n",
    "ax1 = plt.subplot(the_grid[0, 0], aspect=1)\n",
    "plt.pie((class_1), labels=labels, autopct='%1.1f%%', shadow=True, startangle=90)\n",
    "ax1.set_title('1° Classe')\n",
    "\n",
    "#Pie chart 2\n",
    "ax2 = plt.subplot(the_grid[0, 1], aspect=1)\n",
    "plt.pie((class_2), labels=labels, autopct='%.0f%%', shadow=True, startangle=90)\n",
    "ax2.set_title('2° Classe')\n",
    "\n",
    "#Pie chart 3\n",
    "ax3 = plt.subplot(the_grid[0, 2], aspect=1)\n",
    "plt.pie((class_3), labels=labels, autopct='%.0f%%', shadow=True, startangle=90)\n",
    "ax3.set_title('3° Classe')\n",
    "\n",
    "#Especificando figura\n",
    "fig1 = plt.gcf()\n",
    "fig1.set_size_inches(16,16)"
   ]
  },
  {
   "cell_type": "markdown",
   "metadata": {},
   "source": [
    "**Resposta:** sim, passageiros de *1º classe* tiveram uma taxa de 63% de sobreviveram enquanto *2º classe* cerca de 47% e *3º classe* cerca de 24%."
   ]
  },
  {
   "cell_type": "markdown",
   "metadata": {},
   "source": [
    "Agora sim por curiosidade vamos dar uma olhada nos valores quantitativos em cada classe para ver quantos passageiros naufragarão entre elas."
   ]
  },
  {
   "cell_type": "code",
   "execution_count": 15,
   "metadata": {},
   "outputs": [
    {
     "data": {
      "image/png": "[encoded data removed]",
      "text/plain": [
       "<matplotlib.figure.Figure at 0x1f1f71fe128>"
      ]
     },
     "metadata": {},
     "output_type": "display_data"
    },
    {
     "name": "stdout",
     "output_type": "stream",
     "text": [
      "Primeira Classe: 80, Segunda Classe: 97  e Terceira Classe: 372\n"
     ]
    }
   ],
   "source": [
    "#Criando títulos e indicando variáveis\n",
    "labels = ['1°', '2°', '3°']\n",
    "values = [class_1.Nao.tolist()[0], class_2.Nao.tolist()[0], class_3.Nao.tolist()[0]]\n",
    "\n",
    "#Criando bar chart\n",
    "plt.figure(figsize=(14,8))\n",
    "ind = np.arange(len(labels))\n",
    "first, second, third = plt.bar(ind, values)\n",
    "first.set_facecolor('r')\n",
    "second.set_facecolor('g')\n",
    "third.set_facecolor('b')\n",
    "plt.xlabel('Classes')\n",
    "plt.ylabel('N° Naufragados')\n",
    "plt.xticks(ind, labels)\n",
    "plt.title('Número de Naufragados por Classe')\n",
    "plt.show()\n",
    "\n",
    "#Indicando valores finais\n",
    "print('Primeira Classe: %s, Segunda Classe: %s  e Terceira Classe: %s' % (class_1.Nao.tolist()[0], class_2.Nao.tolist()[0], class_3.Nao.tolist()[0]))"
   ]
  },
  {
   "cell_type": "markdown",
   "metadata": {},
   "source": [
    "Podemos ver que a grande maioria dos passageiros eram da 3° classe, com mais de duas vezes a quantidade de naufragados se somar entre passageiros da 1° e 2° classe.\n",
    "Por tanto, podemos concluir que definitivamente a classe do passageiro foi um fator muito determinante na sobrevivência do mesmo."
   ]
  },
  {
   "cell_type": "markdown",
   "metadata": {},
   "source": [
    "Isso se deu pelo fato de que as cabines da primeira classe foram arquitetadas para uma maior facilidade na locomoção entre a popa e a proa. As cabines da terceira classe eram localizadas nas partes traseira e frontal dos conveses na parte inferior do navio e as cabines de segunda classe eram situadas na popa, à partir da metade do navio entre os conveses intermediários."
   ]
  },
  {
   "cell_type": "markdown",
   "metadata": {},
   "source": [
    "### Qual sexo teve a maior taxa de sobrevivência?"
   ]
  },
  {
   "cell_type": "markdown",
   "metadata": {},
   "source": [
    "Aqui vamos analisar a taxa de sobrevivência novamente, mas desta vez em relação aos sexos opostos. Irei mostrar ambos os gráficos na mesma imagem pois como dito anteriormente é mais fácil de visualizar e comparar os resultados."
   ]
  },
  {
   "cell_type": "markdown",
   "metadata": {},
   "source": [
    "Vamos iniciar achando os valores de cada sexo e após isto iremos mostrar os gráficos."
   ]
  },
  {
   "cell_type": "code",
   "execution_count": 16,
   "metadata": {},
   "outputs": [],
   "source": [
    "#Observando a taxa de sobrevivência do sexo masculino\n",
    "vivo_h = t_data.query('Sexo == \"Homem\"')\n",
    "data_h = vivo_h.groupby(['Vivo','Sexo']).size()"
   ]
  },
  {
   "cell_type": "code",
   "execution_count": 17,
   "metadata": {},
   "outputs": [],
   "source": [
    "#Observando a taxa de sobrevivência do sexo feminino\n",
    "vivo_m = t_data.query('Sexo == \"Mulher\"')\n",
    "data_m = vivo_m.groupby(['Vivo','Sexo']).size()"
   ]
  },
  {
   "cell_type": "markdown",
   "metadata": {},
   "source": [
    "Agora que achamos os valores para cada sexo, vamos montar os gráficos e interpretar os resultados."
   ]
  },
  {
   "cell_type": "code",
   "execution_count": 18,
   "metadata": {},
   "outputs": [
    {
     "data": {
      "image/png": "[encoded data removed]",
      "text/plain": [
       "<matplotlib.figure.Figure at 0x1f1f74f1198>"
      ]
     },
     "metadata": {},
     "output_type": "display_data"
    }
   ],
   "source": [
    "#Criando títulos\n",
    "labels = 'Naufragou', 'Sobreviveu'\n",
    "\n",
    "#Criando Grid\n",
    "the_grid = GridSpec(1, 2)\n",
    "\n",
    "#Indicando explosão\n",
    "explode = (0, 0.1)\n",
    "\n",
    "#Pie chart 1\n",
    "ax1 = plt.subplot(the_grid[0, 0], aspect=1)\n",
    "plt.pie((data_h),explode = explode, labels=labels, autopct='%1.1f%%', shadow=True, startangle=90)\n",
    "ax1.set_title('Homems')\n",
    "\n",
    "#Pie chart 2\n",
    "ax2 = plt.subplot(the_grid[0, 1], aspect=1)\n",
    "plt.pie((data_m),explode = explode, labels=labels, autopct='%.0f%%', shadow=True)\n",
    "ax2.set_title('Mulheres')\n",
    "\n",
    "#Especificando figura\n",
    "fig2 = plt.gcf()\n",
    "fig2.set_size_inches(16,16)"
   ]
  },
  {
   "cell_type": "markdown",
   "metadata": {},
   "source": [
    "**Resposta:** O sexo femenino teve uma taxa de sobrevivência muito superior ao de masculino, *74% dos passageiros feminino* sobreviveram enquanto somente aproximadamente *19% dos passageiros masculinos* sobreviveram."
   ]
  },
  {
   "cell_type": "markdown",
   "metadata": {},
   "source": [
    "Bom, aqui irei apenas avançar para o próximo tópico pois veremos adiante uma relação muito intrigante entre este ponto e o próximo."
   ]
  },
  {
   "cell_type": "markdown",
   "metadata": {},
   "source": [
    "### Qual faixa etária teve maior taxa de sobrevivência mais?"
   ]
  },
  {
   "cell_type": "code",
   "execution_count": 19,
   "metadata": {},
   "outputs": [
    {
     "data": {
      "text/plain": [
       "Vivo          2\n",
       "Classe        3\n",
       "Sexo          2\n",
       "Idade        71\n",
       "Parente_1     7\n",
       "Parente_2     7\n",
       "dtype: int64"
      ]
     },
     "execution_count": 19,
     "metadata": {},
     "output_type": "execute_result"
    }
   ],
   "source": [
    "#Verificando a quantidade de valores únicos\n",
    "t_data.nunique()"
   ]
  },
  {
   "cell_type": "markdown",
   "metadata": {},
   "source": [
    "Aqui temos um problema, se fossemos procurar saber a taxa de sobrevivência por cada idade iriamos ter de montar 71 gráficos, o que é um absurdo, então vamos agrupar as idades em 3 diferentes grupos. Seguem os critérios abaixo:\n",
    "\n",
    "</br>\n",
    "<li>Jovens: até 17 anos;</li>\n",
    "<li>Adultos: de 18 á 49 anos;</li>\n",
    "<li>Idosos: 50 anos ou mais.</li>"
   ]
  },
  {
   "cell_type": "code",
   "execution_count": 20,
   "metadata": {},
   "outputs": [],
   "source": [
    "#Observando a taxa de sobrevivência dos jovens\n",
    "age_teen = t_data[t_data.Idade < 18]\n",
    "teen = age_teen.groupby(['Vivo']).size()"
   ]
  },
  {
   "cell_type": "code",
   "execution_count": 21,
   "metadata": {},
   "outputs": [],
   "source": [
    "#Observando a taxa de sobrevivência dos adultos\n",
    "age_mid = t_data[(t_data.Idade <= 50)&(t_data.Idade >= 18)]\n",
    "adults = age_mid.groupby(['Vivo']).size()"
   ]
  },
  {
   "cell_type": "code",
   "execution_count": 22,
   "metadata": {},
   "outputs": [],
   "source": [
    "#Observando a taxa de sobrevivência dos idosos\n",
    "age_old = t_data[t_data.Idade > 50]\n",
    "old = age_old.groupby(['Vivo']).size()"
   ]
  },
  {
   "cell_type": "markdown",
   "metadata": {},
   "source": [
    "Bom, agora que já separamos devidamente os grupos e achamos os valores, vamos mostrar os gráficos em uma única imagem"
   ]
  },
  {
   "cell_type": "code",
   "execution_count": 23,
   "metadata": {},
   "outputs": [
    {
     "data": {
      "image/png": "[encoded data removed]",
      "text/plain": [
       "<matplotlib.figure.Figure at 0x1f1f7563550>"
      ]
     },
     "metadata": {},
     "output_type": "display_data"
    }
   ],
   "source": [
    "#Criando títulos\n",
    "labels = 'Naufragou', 'Sobreviveu'\n",
    "\n",
    "#Criando Circulo\n",
    "circle1=plt.Circle( (0.0,0.0), 0.8, color='white')\n",
    "circle2=plt.Circle( (0,0), 0.8, color='white')\n",
    "circle3=plt.Circle( (0,0), 0.8, color='white')\n",
    "\n",
    "#Criando figura\n",
    "fig3 = plt.gcf()\n",
    "\n",
    "#Criando Grid\n",
    "the_grid = GridSpec(1, 3)\n",
    "\n",
    "#Pie chart 1\n",
    "ax1 = plt.subplot(the_grid[0, 0], aspect=1)\n",
    "plt.pie((teen), labels=None, autopct='%1.1f%%', startangle=90)\n",
    "fig3.gca().add_artist(circle1)\n",
    "ax1.set_title('Jovens')\n",
    "\n",
    "#Pie chart 2\n",
    "ax2 = plt.subplot(the_grid[0, 1], aspect=1)\n",
    "plt.pie((adults), labels=None, autopct='%.0f%%', startangle=90)\n",
    "fig3.gca().add_artist(circle2)\n",
    "ax2.set_title('Adultos')\n",
    "\n",
    "#Criando legenda\n",
    "plt.legend(labels, bbox_to_anchor=(0.83, 0.0), ncol = 2)\n",
    "\n",
    "#Pie chart 3\n",
    "ax3 = plt.subplot(the_grid[0, 2], aspect=1)\n",
    "plt.pie((old), labels=None, autopct='%.0f%%', startangle=90)\n",
    "fig3.gca().add_artist(circle3)\n",
    "ax3.set_title('Idosos')\n",
    "\n",
    "#Indicando tamanho\n",
    "fig3.set_size_inches(18,18)"
   ]
  },
  {
   "cell_type": "markdown",
   "metadata": {
    "collapsed": true
   },
   "source": [
    "**Resposta:** A faixa etária que mais sobreviveu foram os *jovens menores de 18 anos*, com uma taxa de 54%, *adultos* até 50 anos com 36% e *idosos* acima dos 50 com uma taxa de 34%."
   ]
  },
  {
   "cell_type": "markdown",
   "metadata": {},
   "source": [
    "Novamente se analisarmos os critérios de locação dos passageiros veremos que mulheres e crianças ficavam na popa do navio em quanto os homens solteiros ficavam na proa assim separando os sexos opostos. Como a colisão foi no lado estibordo do navio (Frontal Direito), os homens foram os primeiros a serem atingidos em quanto os passageiros da popa (Traseira) tiveram mais tempo para reagir e escapar do naufrágio. Claro que tem o fator de darem preferência a mulheres e crianças no momento de fuga e resgate, mas definitivamente a posição das cabines foi um fator muito decisivo."
   ]
  },
  {
   "cell_type": "markdown",
   "metadata": {},
   "source": [
    "### Pessoas viajando com familiares tiveram um índice de sobrevivencia maior?"
   ]
  },
  {
   "cell_type": "markdown",
   "metadata": {},
   "source": [
    "Neste ponto vamos analisar se pessoas acompanhadas de familiares sobreviveram mais ou menos do que as pessoas que estavam viajando sozinhas. Mas podemos observar que temos duas colunas para familiares um para irmãos/conjugues e outro para pais/filhos. Então, vamos ter que achar os valores em cada coluna e separa em dois grupos, acompanhados e desacompanhados."
   ]
  },
  {
   "cell_type": "code",
   "execution_count": 25,
   "metadata": {
    "scrolled": true
   },
   "outputs": [],
   "source": [
    "#Observando a taxa de sobrevivência dos acompanhados de familiares\n",
    "td_bro1 = (t_data[t_data.Parente_1 >= 1])\n",
    "td_fam1 = (t_data[t_data.Parente_2 >= 1])\n",
    "\n",
    "#Duplicados\n",
    "Duplicados = td_dup1 = t_data[(t_data.Parente_1 >= 1) & (t_data.Parente_2 >= 1)]\n",
    "\n",
    "#Total Acompanhados\n",
    "familiar = (td_bro1.groupby(['Vivo']).size() + td_fam1.groupby(['Vivo']).size() - td_dup1.groupby(['Vivo']).size())"
   ]
  },
  {
   "cell_type": "code",
   "execution_count": 26,
   "metadata": {},
   "outputs": [],
   "source": [
    "#Observando a taxa de sobrevivência dos desacompanhados de familiares\n",
    "td_bro2 = t_data[t_data.Parente_1 == 0]\n",
    "td_fam2 = t_data[t_data.Parente_2 == 0]\n",
    "\n",
    "#Duplicados\n",
    "td_dup2 = t_data[(t_data.Parente_1 == 0) & (t_data.Parente_2 == 0)]\n",
    "\n",
    "#Total Desacompanhados\n",
    "solo = (td_bro2.groupby(['Vivo']).size() + td_fam2.groupby(['Vivo']).size() - td_dup2.groupby(['Vivo']).size())"
   ]
  },
  {
   "cell_type": "markdown",
   "metadata": {},
   "source": [
    "Agora que achamos os valores, vamos mostrar os gráficos e analisa-los."
   ]
  },
  {
   "cell_type": "code",
   "execution_count": 27,
   "metadata": {
    "scrolled": true
   },
   "outputs": [
    {
     "data": {
      "image/png": "[encoded data removed]",
      "text/plain": [
       "<matplotlib.figure.Figure at 0x1f1f7d35160>"
      ]
     },
     "metadata": {},
     "output_type": "display_data"
    }
   ],
   "source": [
    "#Criando títulos\n",
    "labels = 'Naufragou', 'Sobreviveu'\n",
    "\n",
    "#Criando Grid\n",
    "the_grid = GridSpec(1, 3)\n",
    "\n",
    "#Indicando explosão\n",
    "explode = (0, 0.05)\n",
    "\n",
    "#Pie chart 1\n",
    "ax1 = plt.subplot(the_grid[0, 0], aspect=1)\n",
    "plt.pie((familiar), labels=None, autopct='%1.1f%%', shadow=True, startangle=90, colors=['red','cyan'], explode = explode)\n",
    "ax1.set_title('Acompanhados')\n",
    "\n",
    "#Pie chart 2\n",
    "ax2 = plt.subplot(the_grid[0, 1], aspect=1)\n",
    "plt.pie((solo), labels=None, autopct='%.0f%%', shadow=True, startangle=90, colors=['red','cyan'], explode = explode)\n",
    "ax2.set_title('Desacompanhados')\n",
    "\n",
    "#Criando legenda\n",
    "plt.legend(labels, bbox_to_anchor=(0.06, 0.9))\n",
    "\n",
    "#Especificando figura\n",
    "fig4 = plt.gcf()\n",
    "fig4.patch.set_facecolor('C0')\n",
    "fig4.set_size_inches(19,19)"
   ]
  },
  {
   "cell_type": "markdown",
   "metadata": {},
   "source": [
    "**Resposta:** Sim, pessoas acompanhadas de familiares tiveram uma taxa de aproximadamente 49% em quanto a de viajantes desacompanhados foram cerca de 37%. Porém, esta diferença foi muito pequena, por tanto, conclui-se que este fator não foi muito decisivo no momento do naufrágio, então é muito difícil dizer o porque desta pequena margem de diferença entre passageiros acompanhados e desacompanhados."
   ]
  },
  {
   "cell_type": "markdown",
   "metadata": {},
   "source": [
    "### Quais motivos foram decisivos no momento do naufrágio para a sobrevivencia?"
   ]
  },
  {
   "cell_type": "markdown",
   "metadata": {},
   "source": [
    "**Resposta:** Entre os dados analisados podemos observar que, a idade,  o sexo e a classe do ticket foram os items mais relevantes em nossa analise. O fato do passageiro estar ou não acompanhado de familiares não foi um fator muito determinante. Por tanto, com base nos items relevantes e pesquisas feitas podemos concluir que, o real motivo foi a posição das cabines onde os passageiros estavam. Pois os passageiros que estavam na região do impacto ou próximo foram os que menos sobreviveram, em quanto os que estavam com fácil acesso a rota de fuga ou longe da área do impacto tiveram uma taxa de sobrevivência maior."
   ]
  },
  {
   "cell_type": "markdown",
   "metadata": {},
   "source": [
    "## Conclusão"
   ]
  },
  {
   "cell_type": "markdown",
   "metadata": {},
   "source": [
    "Inicialmente irei justificar minhas escolhas dos dados analisados, tipos de gráficos e etc."
   ]
  },
  {
   "cell_type": "markdown",
   "metadata": {},
   "source": [
    "O foco que dei em minha análise foi descobrir quais fatores se deram para que um grupo X de indivíduos sobrevivessem e um grupo Y não. Então, foquei nos items na qual acreditei que poderiam influenciar na sobrevivência dos passageiros. "
   ]
  },
  {
   "cell_type": "markdown",
   "metadata": {},
   "source": [
    "Como o foco era achar taxa de sobrevivência, optei por utilizar gráficos do tipo \"pie\", pois na minha visão é o melhor gráfico para se enxergar porcentagem. Em quanto os gráficos do tipo \"bar\" são melhores para se ver os valores quantitativos e se por algum acaso estivesse procurando tendências iria utilizar um grafico do tipo \"line\" e assim por diante."
   ]
  },
  {
   "cell_type": "markdown",
   "metadata": {},
   "source": [
    "Para poder responder as perguntas propostas além dos valores obtidos, tive de fazer uma boa pesquisa a respeito de como foi o naufrágio, também como era a posição das cabines e suas divisões. Assim sendo, minhas respostas são análises baseadas em dados retirados de nosso dataset como também informações extras retiradas de textos em vários sites. Estes sites por sua vez, estão disponíveis nos links da seção \"Bibliografia\"."
   ]
  },
  {
   "cell_type": "markdown",
   "metadata": {},
   "source": [
    "Agora em relação ao que podemos concluir com esta análise é, a localização dos passageiros no momento do acidente foi o motivo mais relevante na taxa de sobrevivência."
   ]
  },
  {
   "cell_type": "markdown",
   "metadata": {},
   "source": [
    "Mas então, por que não foi analisádo as cabines? Bom para responder isto, vamos voltar ao início de nossa análise. Quando vimos as 5 primeiras linhas de nosso dataset, podemos observar que havia muitos valores faltando na coluna da cabine, por tanto, seria muito difícil analisar isto com tantos valores faltantes, isso levaria a um erro de precisão muito grande em nossa análise, além do que, sabendo as cabines ainda teríamos que saber onde exatamente elas se localizavam dentro do navio o que sería muito difícil e não valendo apena para um dado tão incompleto."
   ]
  },
  {
   "cell_type": "markdown",
   "metadata": {},
   "source": [
    "Claro que existem outros motivos para estas taxas de sobrevivência, como valor social da época, onde provavelmente ricos, mulheres e crianças eram prioridades, em quanto os homens e pobres eram deixados de lado. Mas isso sería especulação pois não há documentos onde se diz que realmente houve este tipo de conduta. A única coisa que podemos realmente alegar de forma objetiva e clara são as cabines. Pois temos os valores analisados, textos dizendo a respeito da localização, imagens e descrição do acidente."
   ]
  },
  {
   "cell_type": "markdown",
   "metadata": {},
   "source": [
    "Com isto concluo minha análise e meu veredito final a respeito deste tópico de maneira clara e objetiva."
   ]
  },
  {
   "cell_type": "markdown",
   "metadata": {},
   "source": [
    "## Bibliografía"
   ]
  },
  {
   "cell_type": "markdown",
   "metadata": {},
   "source": [
    "https://www.kaggle.com/c/titanic/data <br/>\n",
    "https://pt.wikipedia.org/wiki/RMS_Titanic <br/>\n",
    "http://titanicemfoco.blogspot.com/2011/10/dentro-do-titanic-uma-visao-geral.html <br/>\n",
    "https://titanicosemacao.wordpress.com/2010/04/26/cabines-serie-luxos-do-titanic/ <br/>\n",
    "https://pt.wikipedia.org/wiki/Instala%C3%A7%C3%B5es_da_segunda_e_terceira_classes_do_RMS_Titanic <br/>\n",
    "https://pt.wikipedia.org/wiki/RMS_Titanic#Colis%C3%A3o"
   ]
  }
 ],
 "metadata": {
  "kernelspec": {
   "display_name": "Python 3",
   "language": "python",
   "name": "python3"
  },
  "language_info": {
   "codemirror_mode": {
    "name": "ipython",
    "version": 3
   },
   "file_extension": ".py",
   "mimetype": "text/x-python",
   "name": "python",
   "nbconvert_exporter": "python",
   "pygments_lexer": "ipython3",
   "version": "3.6.4"
  }
 },
 "nbformat": 4,
 "nbformat_minor": 2
}
